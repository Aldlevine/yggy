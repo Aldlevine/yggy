{
 "cells": [
  {
   "cell_type": "code",
   "execution_count": 1,
   "metadata": {},
   "outputs": [
    {
     "data": {
      "text/html": [
       "<pre>Adult\n",
       "  fname: 'Samuel'\n",
       "  lname: 'Leumas'\n",
       "  full_name: 'Samuel Leumas'\n",
       "  age: 33</pre>"
      ],
      "text/plain": [
       "<IPython.core.display.HTML object>"
      ]
     },
     "metadata": {},
     "output_type": "display_data"
    }
   ],
   "source": [
    "# pyright: basic\n",
    "\n",
    "from typing import Any, Self\n",
    "from IPython.core.display import HTML\n",
    "from IPython.display import display, update_display\n",
    "import pyggy as pg\n",
    "\n",
    "\n",
    "class MyClass(pg.ObservableObject):\n",
    "    x: int = pg.value(10)\n",
    "    y: str = pg.value(\"hello\")\n",
    "\n",
    "    @pg.compute(x, y)\n",
    "    def out_value(self, x: int, y: str) -> str:\n",
    "        return \" \".join([y] * x)\n",
    "\n",
    "\n",
    "class Person(pg.ObservableObject):\n",
    "    fname: str = pg.value(\"John\")\n",
    "    lname: str = pg.value(\"Doe\")\n",
    "\n",
    "    @pg.compute(fname, lname)\n",
    "    def full_name(self, fname: str, lname: str) -> str:\n",
    "        return f\"{fname} {lname}\"\n",
    "\n",
    "\n",
    "class Adult(Person):\n",
    "    age: int = pg.value(40)\n",
    "\n",
    "    _htmls: list[HTML]\n",
    "    _i: int\n",
    "\n",
    "    def __init__(self, **kwargs: Any) -> None:\n",
    "        super().__init__(**kwargs)\n",
    "        self.watch(self._update)\n",
    "        self._htmls = []\n",
    "        self._i = 0\n",
    "\n",
    "    def _update(self, change: pg.Change[Self]) -> None:\n",
    "        for i, html in enumerate(self._htmls):\n",
    "            self._htmls[i].data = f\"<pre>{self}</pre>\"\n",
    "            update_display(html, display_id=f\"{self.id}-{i}\")\n",
    "\n",
    "    def show(self) -> None:\n",
    "        html = HTML(f\"<pre>{self}</pre>\")\n",
    "        self._htmls.append(html)\n",
    "        display(html, display_id=f\"{self.id}-{self._i}\")\n",
    "        self._i += 1\n",
    "\n",
    "\n",
    "class Child(Adult):\n",
    "    age: int = pg.value(10)\n",
    "\n",
    "\n",
    "adult = Adult()\n",
    "adult.show()"
   ]
  },
  {
   "cell_type": "code",
   "execution_count": 2,
   "metadata": {},
   "outputs": [
    {
     "data": {
      "text/html": [
       "<pre>Adult\n",
       "  fname: 'Samuel'\n",
       "  lname: 'Leumas'\n",
       "  full_name: 'Samuel Leumas'\n",
       "  age: 33</pre>"
      ],
      "text/plain": [
       "<IPython.core.display.HTML object>"
      ]
     },
     "metadata": {},
     "output_type": "display_data"
    }
   ],
   "source": [
    "adult.fname = \"Aaron\"\n",
    "adult.lname = \"Levine\"\n",
    "adult.age = 36\n",
    "adult.show()"
   ]
  },
  {
   "cell_type": "code",
   "execution_count": 3,
   "metadata": {},
   "outputs": [],
   "source": [
    "adult.fname = \"Neville\"\n",
    "adult.lname = \"Elliven\"\n",
    "adult.fname = \"Samuel\"\n",
    "adult.lname = \"Leumas\"\n",
    "adult.age = 33"
   ]
  }
 ],
 "metadata": {
  "kernelspec": {
   "display_name": ".venv",
   "language": "python",
   "name": "python3"
  },
  "language_info": {
   "codemirror_mode": {
    "name": "ipython",
    "version": 3
   },
   "file_extension": ".py",
   "mimetype": "text/x-python",
   "name": "python",
   "nbconvert_exporter": "python",
   "pygments_lexer": "ipython3",
   "version": "3.12.0"
  },
  "orig_nbformat": 4
 },
 "nbformat": 4,
 "nbformat_minor": 2
}
